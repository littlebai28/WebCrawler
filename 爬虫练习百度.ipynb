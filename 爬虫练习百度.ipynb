{
 "cells": [
  {
   "cell_type": "code",
   "execution_count": 10,
   "metadata": {},
   "outputs": [],
   "source": [
    "#教程网址：https://www.zhihu.com/question/20899988/answer/783269460\n",
    "import urllib\n",
    "from urllib.request import urlopen, urlretrieve\n",
    "\n",
    "from bs4 import BeautifulSoup as bf\n",
    "html = urlopen(\"http://www.baidu.com\")\n",
    "html_text=bytes.decode(html.read())\n",
    "#print(html_text)"
   ]
  },
  {
   "cell_type": "code",
   "execution_count": 2,
   "metadata": {},
   "outputs": [
    {
     "name": "stdout",
     "output_type": "stream",
     "text": [
      "<title>百度一下，你就知道</title>\n"
     ]
    }
   ],
   "source": [
    "html = urlopen(\"http://www.baidu.com\")\n",
    "obj=bf(html.read(),'html.parser')\n",
    "title = obj.head.title\n",
    "print(title)"
   ]
  },
  {
   "cell_type": "code",
   "execution_count": 3,
   "metadata": {
    "scrolled": true
   },
   "outputs": [
    {
     "name": "stdout",
     "output_type": "stream",
     "text": [
      "<img src=\"http://ss.bdimg.com/static/superman/img/topnav/baiduyun@2x-e0be79e69e.png\"/>\n",
      "<img src=\"http://ss.bdimg.com/static/superman/img/topnav/zhidao@2x-e9b427ecc4.png\"/>\n",
      "<img src=\"http://ss.bdimg.com/static/superman/img/topnav/baike@2x-1fe3db7fa6.png\"/>\n",
      "<img src=\"http://ss.bdimg.com/static/superman/img/topnav/tupian@2x-482fc011fc.png\"/>\n",
      "<img src=\"http://ss.bdimg.com/static/superman/img/topnav/baobaozhidao@2x-af409f9dbe.png\"/>\n",
      "<img src=\"http://ss.bdimg.com/static/superman/img/topnav/wenku@2x-f3aba893c1.png\"/>\n",
      "<img src=\"http://ss.bdimg.com/static/superman/img/topnav/jingyan@2x-e53eac48cb.png\"/>\n",
      "<img src=\"http://ss.bdimg.com/static/superman/img/topnav/yinyue@2x-c18adacacb.png\"/>\n",
      "<img class=\"index-logo-src\" height=\"129\" hidefocus=\"true\" id=\"s_lg_img\" onerror=\"this.src='//www.baidu.com/img/flexible/logo/pc/index.png';this.onerror=null;\" src=\"//www.baidu.com/img/PCtm_d9c8750bed0b3c7d089fa7d55720d6cf.png\" usemap=\"#mp\" width=\"270\"/>\n",
      "<img class=\"index-logo-srcnew\" height=\"129\" hidefocus=\"true\" id=\"s_lg_img_new\" onerror=\"this.src='//www.baidu.com/img/flexible/logo/pc/index@2.png';this.onerror=null;\" src=\"//www.baidu.com/img/PCtm_d9c8750bed0b3c7d089fa7d55720d6cf.png\" usemap=\"#mp\" width=\"270\"/>\n",
      "<img alt=\"到百度首页\" class=\"index-logo-src\" src=\"//www.baidu.com/img/flexible/logo/pc/result.png\" title=\"到百度首页\"/>\n",
      "<img alt=\"到百度首页\" class=\"index-logo-srcnew\" src=\"//www.baidu.com/img/flexible/logo/pc/result@2.png\" title=\"到百度首页\"/>\n",
      "<img class=\"icon\" src=\"http://ss.bdimg.com/static/superman/img/qrcode/qrcode@2x-b2d2779047.png\"><img class=\"icon-hover\" src=\"http://ss.bdimg.com/static/superman/img/qrcode/qrcode-hover@2x-9eb662f4e8.png\"/></img>\n",
      "<img class=\"icon-hover\" src=\"http://ss.bdimg.com/static/superman/img/qrcode/qrcode-hover@2x-9eb662f4e8.png\"/>\n"
     ]
    }
   ],
   "source": [
    "pic_info=obj.find_all('img')\n",
    "for i in pic_info:\n",
    "    print(i)"
   ]
  },
  {
   "cell_type": "code",
   "execution_count": 7,
   "metadata": {},
   "outputs": [],
   "source": [
    "logo_pic_info=obj.find_all('img',class_=\"index-logo-src\")"
   ]
  },
  {
   "cell_type": "code",
   "execution_count": 8,
   "metadata": {},
   "outputs": [],
   "source": [
    "logo_url=\"http:\"+logo_pic_info[0]['src']"
   ]
  },
  {
   "cell_type": "code",
   "execution_count": 11,
   "metadata": {},
   "outputs": [
    {
     "data": {
      "text/plain": [
       "('logo.png', <http.client.HTTPMessage at 0x1396a62b208>)"
      ]
     },
     "execution_count": 11,
     "metadata": {},
     "output_type": "execute_result"
    }
   ],
   "source": [
    "urlretrieve(logo_url, 'logo.png')"
   ]
  },
  {
   "cell_type": "code",
   "execution_count": null,
   "metadata": {},
   "outputs": [],
   "source": []
  }
 ],
 "metadata": {
  "kernelspec": {
   "display_name": "Python 3",
   "language": "python",
   "name": "python3"
  },
  "language_info": {
   "codemirror_mode": {
    "name": "ipython",
    "version": 3
   },
   "file_extension": ".py",
   "mimetype": "text/x-python",
   "name": "python",
   "nbconvert_exporter": "python",
   "pygments_lexer": "ipython3",
   "version": "3.5.5"
  }
 },
 "nbformat": 4,
 "nbformat_minor": 2
}
